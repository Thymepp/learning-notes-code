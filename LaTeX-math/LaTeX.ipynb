{
 "cells": [
  {
   "cell_type": "markdown",
   "id": "1a4a6473-d3cc-42bf-8213-0e1a867aaeee",
   "metadata": {},
   "source": [
    "# LaTeX"
   ]
  },
  {
   "cell_type": "raw",
   "id": "e4123547-f7f5-4e02-b239-e08a81064221",
   "metadata": {},
   "source": [
    "$ ... $ inline math"
   ]
  },
  {
   "cell_type": "markdown",
   "id": "84735ee1-80a4-409f-b1d6-56ee902d7de2",
   "metadata": {},
   "source": [
    "value of $x$ is $y$"
   ]
  },
  {
   "cell_type": "raw",
   "id": "4ffe6b7b-d3f7-4503-b52b-78141f0ebb5c",
   "metadata": {},
   "source": [
    "$$ ... $$ disply math"
   ]
  },
  {
   "cell_type": "markdown",
   "id": "5ac2b376-bcc0-4a2f-873c-e20b08f637d0",
   "metadata": {},
   "source": [
    "$$x = y\\tag{1}$$"
   ]
  },
  {
   "cell_type": "markdown",
   "id": "2995851a-9fc6-4a47-884a-803b665ed57b",
   "metadata": {
    "jp-MarkdownHeadingCollapsed": true
   },
   "source": [
    "## Common constructs"
   ]
  },
  {
   "cell_type": "raw",
   "id": "40c67df2-fa11-4300-83a2-ce61bcdf5ec5",
   "metadata": {},
   "source": [
    "x^y or {x}^{y}"
   ]
  },
  {
   "cell_type": "markdown",
   "id": "ef4f27fc-2bfd-43e3-8552-ef707fb970be",
   "metadata": {},
   "source": [
    "$x^y$"
   ]
  },
  {
   "cell_type": "raw",
   "id": "c82e8f2e-261e-45d6-969c-14c0b94e9227",
   "metadata": {},
   "source": [
    "x_y or x_{y}"
   ]
  },
  {
   "cell_type": "markdown",
   "id": "46d61f6e-7022-40e6-9c00-cff802ce3ed7",
   "metadata": {},
   "source": [
    "$x_{y}$"
   ]
  },
  {
   "cell_type": "raw",
   "id": "6ef2c38c-6f1e-4552-a9e0-135d78d88cee",
   "metadata": {},
   "source": [
    "\\sqrt{x} or \\sqrt[y]{x}"
   ]
  },
  {
   "cell_type": "markdown",
   "id": "e420ec8a-d5d2-4780-ba59-996ce765e78b",
   "metadata": {},
   "source": [
    "$\\sqrt{x}$"
   ]
  },
  {
   "cell_type": "markdown",
   "id": "1e1447d0-bddc-4556-9ae0-aacabef181ae",
   "metadata": {},
   "source": [
    "$\\sqrt[y]{x}$"
   ]
  },
  {
   "cell_type": "raw",
   "id": "b0bc4632-f5b5-476a-9bf6-dba5456dec67",
   "metadata": {},
   "source": [
    "\\frac{x}{y} or x/y"
   ]
  },
  {
   "cell_type": "markdown",
   "id": "ee9d0080-a8c6-484d-be4e-d9cd48c34311",
   "metadata": {},
   "source": [
    "$\\frac{x}{y}$"
   ]
  },
  {
   "cell_type": "markdown",
   "id": "ed43d629-e873-4f64-a02a-ce4d7dbba211",
   "metadata": {},
   "source": [
    "x/y"
   ]
  },
  {
   "cell_type": "markdown",
   "id": "49cc48dd-bd2e-41da-91af-a0448fd78fab",
   "metadata": {},
   "source": [
    "## Greek"
   ]
  },
  {
   "cell_type": "markdown",
   "id": "23c26ec8-f67d-47f6-ba27-cbd67ab80e96",
   "metadata": {},
   "source": [
    "![Greek](./img-LaTeX/greek.png)"
   ]
  },
  {
   "cell_type": "markdown",
   "id": "e276ba7a-350d-4894-bf26-1b8ab05ac17b",
   "metadata": {},
   "source": [
    "## Sets and logic"
   ]
  },
  {
   "cell_type": "markdown",
   "id": "0bea4da9-1309-4923-bfd6-754f4e932e35",
   "metadata": {},
   "source": [
    "![Sets and logic](./img-LaTeX/sets-and-logic.png)"
   ]
  },
  {
   "cell_type": "raw",
   "id": "519063c1-e6ca-4630-b536-7a707bdb327a",
   "metadata": {},
   "source": [
    "\\not\\subset"
   ]
  },
  {
   "cell_type": "markdown",
   "id": "32e65908-033c-4272-8801-db35a681ff9c",
   "metadata": {},
   "source": [
    "$\\not\\subset$"
   ]
  },
  {
   "cell_type": "raw",
   "id": "5c5d583c-e2a3-4f09-b5a9-7be8b4dc5ab6",
   "metadata": {},
   "source": [
    "A^{\\mathsf{c}}"
   ]
  },
  {
   "cell_type": "markdown",
   "id": "98ac6c49-e44d-49ed-b139-d1d245ac2862",
   "metadata": {},
   "source": [
    "$A^{\\mathsf{c}}$"
   ]
  },
  {
   "cell_type": "raw",
   "id": "6cece70a-dce1-4e58-a9bf-0853136e9600",
   "metadata": {},
   "source": [
    "A^{\\complement}"
   ]
  },
  {
   "cell_type": "markdown",
   "id": "9e98c0a6-a10d-455d-8074-0b4761f49597",
   "metadata": {},
   "source": [
    "$ A^{\\complement}$"
   ]
  },
  {
   "cell_type": "raw",
   "id": "d68638a0-600d-4106-bd55-ae0af02f7169",
   "metadata": {},
   "source": [
    "\\bar{A}"
   ]
  },
  {
   "cell_type": "markdown",
   "id": "159d4548-d703-4409-b3e5-4c5c24224b6d",
   "metadata": {},
   "source": [
    "$\\bar{A}$"
   ]
  },
  {
   "cell_type": "markdown",
   "id": "3cf1c9b7-7449-4858-94c2-ba1bc8bdfea5",
   "metadata": {},
   "source": [
    "##  Decorations"
   ]
  },
  {
   "cell_type": "raw",
   "id": "19802b5f-659d-492d-9efa-ad70863f5f7e",
   "metadata": {},
   "source": [
    "f’ (’ = Alt + 0146)"
   ]
  },
  {
   "cell_type": "markdown",
   "id": "e7431184-ef4a-4461-bbb9-8b432026ad27",
   "metadata": {},
   "source": [
    "$f’$"
   ]
  },
  {
   "cell_type": "raw",
   "id": "c1388680-d6e2-401a-bdf4-38e3d845cd12",
   "metadata": {},
   "source": [
    "f’’"
   ]
  },
  {
   "cell_type": "markdown",
   "id": "79b7260d-fd31-4fca-8343-9649f8656cd8",
   "metadata": {},
   "source": [
    "$f’’$"
   ]
  },
  {
   "cell_type": "raw",
   "id": "5b38b242-0d0a-4dc7-b4ea-bbec0fdfb153",
   "metadata": {},
   "source": [
    "\\Sigma^{*}"
   ]
  },
  {
   "cell_type": "markdown",
   "id": "59a79178-34e8-44f3-8b72-afb69879e5ec",
   "metadata": {},
   "source": [
    "$\\Sigma^{*}$"
   ]
  },
  {
   "cell_type": "raw",
   "id": "4c615ec1-6e88-4955-ae70-53d9465523d5",
   "metadata": {},
   "source": [
    "\\dot{x}"
   ]
  },
  {
   "cell_type": "markdown",
   "id": "05480875-fe62-4b51-9ab4-4cf3dba2e5f9",
   "metadata": {},
   "source": [
    "$\\dot{x}$"
   ]
  },
  {
   "cell_type": "raw",
   "id": "a24f1fd5-a71e-4f7b-b777-f1a06ba8830f",
   "metadata": {},
   "source": [
    "\\ddot{x}"
   ]
  },
  {
   "cell_type": "markdown",
   "id": "74f443f4-2cb0-4f6b-a270-29c372d5a356",
   "metadata": {},
   "source": [
    "$\\ddot{x}$"
   ]
  },
  {
   "cell_type": "raw",
   "id": "8d662e64-7960-48ea-8edc-2c42a259c7e9",
   "metadata": {},
   "source": [
    "\\hat{x}"
   ]
  },
  {
   "cell_type": "markdown",
   "id": "782e9f36-e6c6-4e4a-9d71-1ff0d91eb6b9",
   "metadata": {},
   "source": [
    "$\\hat{x}$"
   ]
  },
  {
   "cell_type": "raw",
   "id": "d336a126-9f59-4c19-9aaa-430eb52ccb48",
   "metadata": {},
   "source": [
    "\\tilde{x}"
   ]
  },
  {
   "cell_type": "markdown",
   "id": "508d45ae-a475-4c6c-a019-ab748050c119",
   "metadata": {},
   "source": [
    "$\\tilde{x}$"
   ]
  },
  {
   "cell_type": "raw",
   "id": "b61620f7-7a32-40ae-ab8c-0abebe330d25",
   "metadata": {},
   "source": [
    "\\bar{x}"
   ]
  },
  {
   "cell_type": "markdown",
   "id": "2de4d02b-ff36-48ec-b466-a1b58bf41754",
   "metadata": {},
   "source": [
    "$\\bar{x}$"
   ]
  },
  {
   "cell_type": "raw",
   "id": "3a385039-3e19-4c90-a37e-22b89e38cd87",
   "metadata": {},
   "source": [
    "\\vec{x}"
   ]
  },
  {
   "cell_type": "markdown",
   "id": "63be39f1-9d63-413d-a424-1ca13d9e4dc4",
   "metadata": {},
   "source": [
    "$\\vec{x}$"
   ]
  },
  {
   "cell_type": "raw",
   "id": "920aa2a3-ff93-4a05-aca0-2adb5e7e6207",
   "metadata": {},
   "source": [
    "\\imath \\jmath"
   ]
  },
  {
   "cell_type": "markdown",
   "id": "8abbeef2-e8c9-46ad-b897-252c4842a978",
   "metadata": {},
   "source": [
    "$\\imath$\n",
    "$\\jmath$"
   ]
  },
  {
   "cell_type": "raw",
   "id": "06e43e61-6bd6-40c3-9d7e-65dd61be30f4",
   "metadata": {},
   "source": [
    "$\\vec{\\imath}$ vs $\\vec{i}$"
   ]
  },
  {
   "cell_type": "markdown",
   "id": "71d9916d-c868-4098-9f5c-57c0b3828e7b",
   "metadata": {},
   "source": [
    "$\\vec{\\imath}$  \n",
    "$\\vec{i}$"
   ]
  },
  {
   "cell_type": "raw",
   "id": "3c12335b-c311-4505-83d0-68928ea4f78f",
   "metadata": {},
   "source": [
    "\\boldsymbol{x} for vector"
   ]
  },
  {
   "cell_type": "markdown",
   "id": "860611e2-2cd1-4f0c-8bd7-3e16ab4a62cb",
   "metadata": {},
   "source": [
    "$\\boldsymbol{x}$"
   ]
  },
  {
   "cell_type": "raw",
   "id": "45931a4a-33ae-4977-9176-055f900b4d7e",
   "metadata": {},
   "source": [
    "\\overline{x+y}"
   ]
  },
  {
   "cell_type": "markdown",
   "id": "0a98c3fd-39e5-451b-af7d-f1a1fb6f4ace",
   "metadata": {},
   "source": [
    "$\\overline{x+y}$"
   ]
  },
  {
   "cell_type": "raw",
   "id": "69dc9263-c2a0-44db-aa9a-f7b4eeb66135",
   "metadata": {},
   "source": [
    "\\widehat"
   ]
  },
  {
   "cell_type": "markdown",
   "id": "55929c0c-2044-4502-ae7c-d272a2592882",
   "metadata": {},
   "source": [
    "$\\widehat{x+y}$"
   ]
  },
  {
   "cell_type": "raw",
   "id": "b9b04a76-930d-4b22-b8e6-ffed2136b70f",
   "metadata": {},
   "source": [
    "\\overbrace{x+y}^{a}"
   ]
  },
  {
   "cell_type": "markdown",
   "id": "380cb92d-268f-4e22-97d3-f493547da34e",
   "metadata": {},
   "source": [
    "$\\overbrace{x+y}^{a}$"
   ]
  },
  {
   "cell_type": "raw",
   "id": "f6125585-f664-4c0d-99f0-0928efc9b86d",
   "metadata": {},
   "source": [
    "\\underbrace{x+y}_{a}"
   ]
  },
  {
   "cell_type": "markdown",
   "id": "d0f410b8-0497-43cc-93c6-cb4adccbe2bc",
   "metadata": {},
   "source": [
    "$\\underbrace{x+y}_{a}$"
   ]
  },
  {
   "cell_type": "markdown",
   "id": "9a55835e-5ea8-4675-91a8-17d71d246ec1",
   "metadata": {},
   "source": [
    "## Dot"
   ]
  },
  {
   "cell_type": "raw",
   "id": "071fdd92-7c24-4909-b636-9fbb58d1193a",
   "metadata": {},
   "source": [
    "\\ldots"
   ]
  },
  {
   "cell_type": "markdown",
   "id": "bdeaf5af-0962-432a-bdbe-e038e22f1d0f",
   "metadata": {},
   "source": [
    "$\\ldots$"
   ]
  },
  {
   "cell_type": "raw",
   "id": "86ccc767-2ea8-4241-8af3-f500065d4a93",
   "metadata": {},
   "source": [
    "\\, small space"
   ]
  },
  {
   "cell_type": "markdown",
   "id": "dd7c9ae0-e21b-4dec-8eda-8dda718abe10",
   "metadata": {},
   "source": [
    "$small\\,space$"
   ]
  },
  {
   "cell_type": "raw",
   "id": "da610f0d-021a-4e96-ba93-efaa0259ffbf",
   "metadata": {},
   "source": [
    "\\cdots"
   ]
  },
  {
   "cell_type": "markdown",
   "id": "3a1f7e71-a846-4f8a-beb4-65acbc4b13fb",
   "metadata": {},
   "source": [
    "$\\cdots$"
   ]
  },
  {
   "cell_type": "raw",
   "id": "889e01af-7d86-4148-8fba-72343367733e",
   "metadata": {},
   "source": [
    "\\vdots"
   ]
  },
  {
   "cell_type": "markdown",
   "id": "805a2ed5-d9bd-47be-96e2-adc4e40522e1",
   "metadata": {},
   "source": [
    "$\\vdots$"
   ]
  },
  {
   "cell_type": "raw",
   "id": "ea5a7e0d-8de9-43d1-9ecc-fd78443bd361",
   "metadata": {},
   "source": [
    "\\ddots"
   ]
  },
  {
   "cell_type": "markdown",
   "id": "f5841bef-03e5-4787-a0f1-055f994611ea",
   "metadata": {},
   "source": [
    "$\\ddots$"
   ]
  },
  {
   "cell_type": "markdown",
   "id": "ca4d86e8-3814-48f9-9948-65499cd029a1",
   "metadata": {},
   "source": [
    "## Roman names"
   ]
  },
  {
   "cell_type": "markdown",
   "id": "956a47be-9424-4353-9e0e-575f3f17c164",
   "metadata": {},
   "source": [
    "![Roman names](./img-LaTeX/roman-names.png)"
   ]
  },
  {
   "cell_type": "markdown",
   "id": "c41ac7bd-0ce3-46d9-8351-9f18d0d4a203",
   "metadata": {},
   "source": [
    "## Other symbols"
   ]
  },
  {
   "cell_type": "markdown",
   "id": "54a65623-41e4-410d-8a83-a934ab8d8157",
   "metadata": {},
   "source": [
    "![Other symbols](./img-LaTeX/other-symbols.png)"
   ]
  },
  {
   "cell_type": "markdown",
   "id": "212632e5-1c5b-48e1-97ed-164d644b1d7a",
   "metadata": {},
   "source": [
    "## Variable-sized operators"
   ]
  },
  {
   "cell_type": "raw",
   "id": "e402f25f-8759-45eb-835b-b9b3c47527fd",
   "metadata": {},
   "source": [
    "\\sum_{x=0}^3{x^2}"
   ]
  },
  {
   "cell_type": "markdown",
   "id": "fab447f6-fdd3-4dc1-b19f-8ade05b9a2b7",
   "metadata": {},
   "source": [
    "$\\sum_{x=0}^3{x^2}$"
   ]
  },
  {
   "cell_type": "raw",
   "id": "083f6546-1110-4b1f-8ce8-2e6522bc2ebc",
   "metadata": {},
   "source": [
    "\\int_{x=a}^b x^y\\,dx"
   ]
  },
  {
   "cell_type": "markdown",
   "id": "364eb352-4767-4a35-9d02-d4549da41500",
   "metadata": {},
   "source": [
    "$\\int_{x=a}^b x^y\\,dx$"
   ]
  },
  {
   "cell_type": "markdown",
   "id": "10bf7ef4-555f-467c-83ab-18128b0ba5ae",
   "metadata": {},
   "source": [
    "![Variable-sized operators](./img-LaTeX/variable-sized-operators.png)"
   ]
  },
  {
   "cell_type": "markdown",
   "id": "d556223e-7e08-4bee-b9ba-8c3eece24ed5",
   "metadata": {},
   "source": [
    "## Arrows"
   ]
  },
  {
   "cell_type": "markdown",
   "id": "56ba29b9-7544-4c4d-b167-d1eb00604b00",
   "metadata": {},
   "source": [
    "![Arrows](./img-LaTeX/arrows.png)"
   ]
  },
  {
   "cell_type": "markdown",
   "id": "dd739705-76f5-442a-a586-3b9d2a459b92",
   "metadata": {},
   "source": [
    "## Fences"
   ]
  },
  {
   "cell_type": "markdown",
   "id": "c026df32-bdf3-4b68-815b-3293cbef96a0",
   "metadata": {},
   "source": [
    "![Fences](./img-LaTeX/fences.png)"
   ]
  },
  {
   "cell_type": "raw",
   "id": "559eb4a7-f91d-4968-8ba5-0ece15e62724",
   "metadata": {},
   "source": [
    "\\left \\right use together to enclose formula size"
   ]
  },
  {
   "cell_type": "markdown",
   "id": "2b114b96-32a2-4c6f-bd0b-10efb2086327",
   "metadata": {},
   "source": [
    "$\\left\\langle{x^{x^{x^{x}}}}\\right\\rangle$"
   ]
  },
  {
   "cell_type": "raw",
   "id": "6ee4f817-c4cc-4d47-8a09-43af43553dd4",
   "metadata": {},
   "source": [
    "\\left. \\right. to one-sided fance"
   ]
  },
  {
   "cell_type": "markdown",
   "id": "473a1722-025a-4139-897a-586d03e19d23",
   "metadata": {},
   "source": [
    "$\\left.{x}\\right\\rangle$"
   ]
  },
  {
   "cell_type": "raw",
   "id": "d3828eb6-fb7e-42cb-8a41-c5994a04e44b",
   "metadata": {},
   "source": [
    "\\big \\Big \\bigg \\Bigg fixed-size"
   ]
  },
  {
   "cell_type": "markdown",
   "id": "6c30116c-de20-45f7-8d44-c500e616bc89",
   "metadata": {},
   "source": [
    "$\\big($\n",
    "$\\Big($\n",
    "$\\bigg($\n",
    "$\\Bigg($"
   ]
  },
  {
   "cell_type": "markdown",
   "id": "ac3f8c3e",
   "metadata": {
    "vscode": {
     "languageId": "raw"
    }
   },
   "source": [
    "## Arrays, Matrices"
   ]
  },
  {
   "cell_type": "raw",
   "id": "bd70250c",
   "metadata": {
    "vscode": {
     "languageId": "raw"
    }
   },
   "source": [
    "\\begin{array}{rcl}\n",
    "1 &2 &3 \\\\\n",
    "4 &5 &6 \\\\\n",
    "7 &8 &9 \\\\\n",
    "\\end{array}\n",
    "\n",
    "r = right\n",
    "c = center\n",
    "l = left"
   ]
  },
  {
   "cell_type": "markdown",
   "id": "b326a58e",
   "metadata": {},
   "source": [
    "$ \\begin{array}{rcl}\n",
    " 1 &2 &3 \\\\\n",
    " 4 &5 &6 \\\\\n",
    " 7 &8 &9 \\\\\n",
    " \\end{array}$"
   ]
  },
  {
   "cell_type": "raw",
   "id": "d75add28",
   "metadata": {
    "vscode": {
     "languageId": "raw"
    }
   },
   "source": [
    "f_n=\n",
    "\\begin{cases}\n",
    "a &\\text{x > 0} \\\\\n",
    "b &\\text{else}\n",
    "\\end{cases}"
   ]
  },
  {
   "cell_type": "markdown",
   "id": "2c9521fb",
   "metadata": {
    "vscode": {
     "languageId": "raw"
    }
   },
   "source": [
    "$f_n=\n",
    "\\begin{cases}\n",
    "a &\\text{x > 0} \\\\\n",
    "b &\\text{else}\n",
    "\\end{cases}$"
   ]
  },
  {
   "cell_type": "raw",
   "id": "73f1cb89",
   "metadata": {
    "vscode": {
     "languageId": "raw"
    }
   },
   "source": [
    "$\\begin{matrix}\n",
    "a & b \\\\\n",
    "c & d\n",
    "\\end{matrix}$\n",
    "\\begin{matrix}\n",
    "a & b \\\\\n",
    "c & d\n",
    "\\end{matrix}"
   ]
  },
  {
   "cell_type": "markdown",
   "id": "4513064a",
   "metadata": {},
   "source": [
    "$\\begin{matrix}\n",
    "a & b \\\\\n",
    "c & d\n",
    "\\end{matrix}$\n",
    "\\begin{matrix}\n",
    "a & b \\\\\n",
    "c & d\n",
    "\\end{matrix}"
   ]
  },
  {
   "cell_type": "raw",
   "id": "a0927db9",
   "metadata": {
    "vscode": {
     "languageId": "raw"
    }
   },
   "source": [
    "\\begin{pmatrix}\n",
    "a & b \\\\\n",
    "c & d\n",
    "\\end{pmatrix}"
   ]
  },
  {
   "cell_type": "markdown",
   "id": "1491687a",
   "metadata": {},
   "source": [
    "\\begin{pmatrix}\n",
    "a & b \\\\\n",
    "c & d\n",
    "\\end{pmatrix}"
   ]
  },
  {
   "cell_type": "raw",
   "id": "fa6e13d9",
   "metadata": {
    "vscode": {
     "languageId": "raw"
    }
   },
   "source": [
    "\\begin{bmatrix}\n",
    "a & b \\\\\n",
    "c & d\n",
    "\\end{bmatrix}"
   ]
  },
  {
   "cell_type": "markdown",
   "id": "d5fdd186",
   "metadata": {},
   "source": [
    "\\begin{bmatrix}\n",
    "a & b \\\\\n",
    "c & d\n",
    "\\end{bmatrix}"
   ]
  },
  {
   "cell_type": "raw",
   "id": "81d87d1f",
   "metadata": {
    "vscode": {
     "languageId": "raw"
    }
   },
   "source": [
    "\\begin{Bmatrix}\n",
    "a & b \\\\\n",
    "c & d\n",
    "\\end{Bmatrix}"
   ]
  },
  {
   "cell_type": "markdown",
   "id": "6472fe6e",
   "metadata": {},
   "source": [
    "\\begin{Bmatrix}\n",
    "a & b \\\\\n",
    "c & d\n",
    "\\end{Bmatrix}"
   ]
  },
  {
   "cell_type": "raw",
   "id": "21086f54",
   "metadata": {
    "vscode": {
     "languageId": "raw"
    }
   },
   "source": [
    "\\begin{vmatrix}\n",
    "a & b \\\\\n",
    "c & d\n",
    "\\end{vmatrix}"
   ]
  },
  {
   "cell_type": "markdown",
   "id": "5c8776cf",
   "metadata": {},
   "source": [
    "\\begin{vmatrix}\n",
    "a & b \\\\\n",
    "c & d\n",
    "\\end{vmatrix}"
   ]
  },
  {
   "cell_type": "raw",
   "id": "d1056b3f",
   "metadata": {
    "vscode": {
     "languageId": "raw"
    }
   },
   "source": [
    "\\begin{Vmatrix}\n",
    "a & b \\\\\n",
    "c & d\n",
    "\\end{Vmatrix}"
   ]
  },
  {
   "cell_type": "markdown",
   "id": "b500e626",
   "metadata": {},
   "source": [
    "\\begin{Vmatrix}\n",
    "a & b \\\\\n",
    "c & d\n",
    "\\end{Vmatrix}"
   ]
  },
  {
   "cell_type": "raw",
   "id": "c39962d2",
   "metadata": {
    "vscode": {
     "languageId": "raw"
    }
   },
   "source": [
    "\\begin{smallmatrix}\n",
    "a & b \\\\\n",
    "c & d\n",
    "\\end{smallmatrix}"
   ]
  },
  {
   "cell_type": "markdown",
   "id": "ffd14c85",
   "metadata": {},
   "source": [
    "\\begin{smallmatrix}\n",
    "a & b \\\\\n",
    "c & d\n",
    "\\end{smallmatrix}"
   ]
  },
  {
   "cell_type": "raw",
   "id": "95e912e8",
   "metadata": {
    "vscode": {
     "languageId": "raw"
    }
   },
   "source": [
    "1 space        = quad\n",
    "\\,             = 3/18 quad\n",
    "\\:             = 4/18 quad\n",
    "\\;             = 5/18 quad\n",
    "\\quad          = 1 quad\n",
    "\\qquad         = 2 quad\n",
    "\\!             = -3/18 quad\n",
    "\\hspace{0.5cm} = 0.5 cm or etc"
   ]
  },
  {
   "cell_type": "markdown",
   "id": "7e3f4e65",
   "metadata": {
    "vscode": {
     "languageId": "raw"
    }
   },
   "source": [
    "$ \n",
    "\\rightarrow \\, \\leftarrow  \\\\ \n",
    "\\rightarrow \\: \\leftarrow  \\\\ \n",
    "\\rightarrow \\; \\leftarrow  \\\\ \n",
    "\\rightarrow \\quad \\leftarrow  \\\\\n",
    "\\rightarrow \\qquad \\leftarrow  \\\\\n",
    "\\rightarrow \\! \\leftarrow  \\\\$ \n",
    "$.\\hspace{0.5cm}.$\n",
    "$.\\hspace{0.9cm}.$"
   ]
  }
 ],
 "metadata": {
  "kernelspec": {
   "display_name": "base",
   "language": "python",
   "name": "python3"
  },
  "language_info": {
   "codemirror_mode": {
    "name": "ipython",
    "version": 3
   },
   "file_extension": ".py",
   "mimetype": "text/x-python",
   "name": "python",
   "nbconvert_exporter": "python",
   "pygments_lexer": "ipython3",
   "version": "3.12.7"
  }
 },
 "nbformat": 4,
 "nbformat_minor": 5
}
